{
 "cells": [
  {
   "cell_type": "markdown",
   "id": "bdb26c05",
   "metadata": {
    "papermill": {
     "duration": 0.006811,
     "end_time": "2024-07-26T07:48:19.094882",
     "exception": false,
     "start_time": "2024-07-26T07:48:19.088071",
     "status": "completed"
    },
    "tags": []
   },
   "source": [
    "# Import Necessary Libraries"
   ]
  },
  {
   "cell_type": "code",
   "execution_count": 1,
   "id": "12d4a07e",
   "metadata": {
    "execution": {
     "iopub.execute_input": "2024-07-26T07:48:19.109323Z",
     "iopub.status.busy": "2024-07-26T07:48:19.108933Z",
     "iopub.status.idle": "2024-07-26T07:48:21.697761Z",
     "shell.execute_reply": "2024-07-26T07:48:21.696706Z"
    },
    "papermill": {
     "duration": 2.599006,
     "end_time": "2024-07-26T07:48:21.700321",
     "exception": false,
     "start_time": "2024-07-26T07:48:19.101315",
     "status": "completed"
    },
    "tags": []
   },
   "outputs": [],
   "source": [
    "import numpy as np\n",
    "import pandas as pd\n",
    "import matplotlib.pyplot as plt\n",
    "import seaborn as sns\n",
    "import plotly.express as px\n",
    "from datetime import timedelta"
   ]
  },
  {
   "cell_type": "markdown",
   "id": "58422150",
   "metadata": {
    "papermill": {
     "duration": 0.006087,
     "end_time": "2024-07-26T07:48:21.712823",
     "exception": false,
     "start_time": "2024-07-26T07:48:21.706736",
     "status": "completed"
    },
    "tags": []
   },
   "source": [
    "# Load Dataset\n",
    "\n",
    "At this time, reading data and search is any defects in it."
   ]
  },
  {
   "cell_type": "code",
   "execution_count": 2,
   "id": "8f346b69",
   "metadata": {
    "execution": {
     "iopub.execute_input": "2024-07-26T07:48:21.727553Z",
     "iopub.status.busy": "2024-07-26T07:48:21.726564Z",
     "iopub.status.idle": "2024-07-26T07:48:21.896013Z",
     "shell.execute_reply": "2024-07-26T07:48:21.895032Z"
    },
    "papermill": {
     "duration": 0.179583,
     "end_time": "2024-07-26T07:48:21.898638",
     "exception": false,
     "start_time": "2024-07-26T07:48:21.719055",
     "status": "completed"
    },
    "tags": []
   },
   "outputs": [],
   "source": [
    "df = pd.read_csv(\"/kaggle/input/e-commerce-clickstream-and-transaction-dataset/ecommerce_clickstream_transactions.csv\")"
   ]
  },
  {
   "cell_type": "code",
   "execution_count": 3,
   "id": "ea79b7fd",
   "metadata": {
    "execution": {
     "iopub.execute_input": "2024-07-26T07:48:21.913289Z",
     "iopub.status.busy": "2024-07-26T07:48:21.912907Z",
     "iopub.status.idle": "2024-07-26T07:48:21.953638Z",
     "shell.execute_reply": "2024-07-26T07:48:21.952362Z"
    },
    "papermill": {
     "duration": 0.051278,
     "end_time": "2024-07-26T07:48:21.956430",
     "exception": false,
     "start_time": "2024-07-26T07:48:21.905152",
     "status": "completed"
    },
    "tags": []
   },
   "outputs": [
    {
     "name": "stdout",
     "output_type": "stream",
     "text": [
      "<class 'pandas.core.frame.DataFrame'>\n",
      "RangeIndex: 74817 entries, 0 to 74816\n",
      "Data columns (total 7 columns):\n",
      " #   Column     Non-Null Count  Dtype  \n",
      "---  ------     --------------  -----  \n",
      " 0   UserID     74817 non-null  int64  \n",
      " 1   SessionID  74817 non-null  int64  \n",
      " 2   Timestamp  74817 non-null  object \n",
      " 3   EventType  74817 non-null  object \n",
      " 4   ProductID  32113 non-null  object \n",
      " 5   Amount     10682 non-null  float64\n",
      " 6   Outcome    10682 non-null  object \n",
      "dtypes: float64(1), int64(2), object(4)\n",
      "memory usage: 4.0+ MB\n"
     ]
    }
   ],
   "source": [
    "df.info()"
   ]
  },
  {
   "cell_type": "code",
   "execution_count": 4,
   "id": "c57a3142",
   "metadata": {
    "execution": {
     "iopub.execute_input": "2024-07-26T07:48:21.971950Z",
     "iopub.status.busy": "2024-07-26T07:48:21.971149Z",
     "iopub.status.idle": "2024-07-26T07:48:21.994529Z",
     "shell.execute_reply": "2024-07-26T07:48:21.993440Z"
    },
    "papermill": {
     "duration": 0.033254,
     "end_time": "2024-07-26T07:48:21.996755",
     "exception": false,
     "start_time": "2024-07-26T07:48:21.963501",
     "status": "completed"
    },
    "tags": []
   },
   "outputs": [
    {
     "data": {
      "text/plain": [
       "UserID           0\n",
       "SessionID        0\n",
       "Timestamp        0\n",
       "EventType        0\n",
       "ProductID    42704\n",
       "Amount       64135\n",
       "Outcome      64135\n",
       "dtype: int64"
      ]
     },
     "execution_count": 4,
     "metadata": {},
     "output_type": "execute_result"
    }
   ],
   "source": [
    "missing_values = df.isnull().sum()\n",
    "missing_values"
   ]
  },
  {
   "cell_type": "code",
   "execution_count": 5,
   "id": "3ac20aed",
   "metadata": {
    "execution": {
     "iopub.execute_input": "2024-07-26T07:48:22.012236Z",
     "iopub.status.busy": "2024-07-26T07:48:22.011036Z",
     "iopub.status.idle": "2024-07-26T07:48:22.055798Z",
     "shell.execute_reply": "2024-07-26T07:48:22.054686Z"
    },
    "papermill": {
     "duration": 0.054719,
     "end_time": "2024-07-26T07:48:22.058072",
     "exception": false,
     "start_time": "2024-07-26T07:48:22.003353",
     "status": "completed"
    },
    "tags": []
   },
   "outputs": [
    {
     "data": {
      "text/plain": [
       "0"
      ]
     },
     "execution_count": 5,
     "metadata": {},
     "output_type": "execute_result"
    }
   ],
   "source": [
    "duplicate = df.duplicated().sum()\n",
    "duplicate"
   ]
  },
  {
   "cell_type": "code",
   "execution_count": 6,
   "id": "beabbe4c",
   "metadata": {
    "execution": {
     "iopub.execute_input": "2024-07-26T07:48:22.073017Z",
     "iopub.status.busy": "2024-07-26T07:48:22.072640Z",
     "iopub.status.idle": "2024-07-26T07:48:22.083507Z",
     "shell.execute_reply": "2024-07-26T07:48:22.082278Z"
    },
    "papermill": {
     "duration": 0.020963,
     "end_time": "2024-07-26T07:48:22.085823",
     "exception": false,
     "start_time": "2024-07-26T07:48:22.064860",
     "status": "completed"
    },
    "tags": []
   },
   "outputs": [
    {
     "name": "stdout",
     "output_type": "stream",
     "text": [
      "Number of unique values: 7\n",
      "Unique values: ['page_view' 'product_view' 'add_to_cart' 'login' 'click' 'logout'\n",
      " 'purchase']\n"
     ]
    }
   ],
   "source": [
    "unique_values = df['EventType'].unique()\n",
    "unique_values_count = len(unique_values)\n",
    "print(f\"Number of unique values: {unique_values_count}\")\n",
    "print(\"Unique values:\", unique_values)"
   ]
  },
  {
   "cell_type": "code",
   "execution_count": 7,
   "id": "7a10c714",
   "metadata": {
    "execution": {
     "iopub.execute_input": "2024-07-26T07:48:22.100877Z",
     "iopub.status.busy": "2024-07-26T07:48:22.100499Z",
     "iopub.status.idle": "2024-07-26T07:48:22.109717Z",
     "shell.execute_reply": "2024-07-26T07:48:22.108677Z"
    },
    "papermill": {
     "duration": 0.019905,
     "end_time": "2024-07-26T07:48:22.112536",
     "exception": false,
     "start_time": "2024-07-26T07:48:22.092631",
     "status": "completed"
    },
    "tags": []
   },
   "outputs": [
    {
     "name": "stdout",
     "output_type": "stream",
     "text": [
      "Number of unique values: 8748\n",
      "Unique values: [nan 'prod_8199' 'prod_4112' ... 'prod_8100' 'prod_4989' 'prod_6787']\n"
     ]
    }
   ],
   "source": [
    "unique_values_2 = df['ProductID'].unique()\n",
    "unique_values_count_2 = len(unique_values_2)\n",
    "print(f\"Number of unique values: {unique_values_count_2}\")\n",
    "print(\"Unique values:\", unique_values_2)"
   ]
  },
  {
   "cell_type": "code",
   "execution_count": 8,
   "id": "a1ddfab5",
   "metadata": {
    "execution": {
     "iopub.execute_input": "2024-07-26T07:48:22.127858Z",
     "iopub.status.busy": "2024-07-26T07:48:22.127525Z",
     "iopub.status.idle": "2024-07-26T07:48:22.134850Z",
     "shell.execute_reply": "2024-07-26T07:48:22.133905Z"
    },
    "papermill": {
     "duration": 0.01809,
     "end_time": "2024-07-26T07:48:22.137272",
     "exception": false,
     "start_time": "2024-07-26T07:48:22.119182",
     "status": "completed"
    },
    "tags": []
   },
   "outputs": [
    {
     "name": "stdout",
     "output_type": "stream",
     "text": [
      "Number of unique values: 2\n",
      "Unique values: [nan 'purchase']\n"
     ]
    }
   ],
   "source": [
    "unique_values_3 = df['Outcome'].unique()\n",
    "unique_values_count_3 = len(unique_values_3)\n",
    "print(f\"Number of unique values: {unique_values_count_3}\")\n",
    "print(\"Unique values:\", unique_values_3)"
   ]
  },
  {
   "cell_type": "markdown",
   "id": "696ec354",
   "metadata": {
    "papermill": {
     "duration": 0.006303,
     "end_time": "2024-07-26T07:48:22.150127",
     "exception": false,
     "start_time": "2024-07-26T07:48:22.143824",
     "status": "completed"
    },
    "tags": []
   },
   "source": [
    "### Conclusion (Initial Analysis)\n",
    "\n",
    "From the analysis of the dataset, the following observations and conclusions can be made:\n",
    "\n",
    "1. **Missing Values**:\n",
    "   - **ProductID**: There are 42,704 missing values out of 74,817 entries.\n",
    "   - **Amount** and **Outcome**: Both columns have 64,135 missing values, indicating they are not recorded for many events.\n",
    "   - These missing values could be due to certain events not requiring these fields. For example, `page_view`, `login`, `logout`, and `click` events do not involve specific products or transaction amounts.\n",
    "\n",
    "2. **Data Completeness**:\n",
    "   - The columns `UserID`, `SessionID`, `Timestamp`, and `EventType` have no missing values, indicating that these are always recorded.\n",
    "\n",
    "3. **Duplicate Records**:\n",
    "   - There are no duplicate records in the dataset, ensuring the uniqueness and reliability of the recorded data.\n",
    "\n",
    "4. **Event Types**:\n",
    "   - There are 7 unique event types: `page_view`, `product_view`, `add_to_cart`, `login`, `click`, `logout`, and `purchase`.\n",
    "   - This variety of event types provides a comprehensive view of user interactions on the e-commerce platform.\n",
    "\n",
    "5. **Product IDs**:\n",
    "   - There are 8,748 unique product IDs in the dataset.\n",
    "   - The presence of `NaN` values in `ProductID` aligns with event types that do not involve specific products.\n",
    "\n",
    "Overall, the dataset is structured with critical user interaction data. However, the significant number of missing values in `ProductID`, `Amount`, and `Outcome` columns suggests that certain events do not capture product-specific or transaction-specific details. This should be taken into account in any subsequent analysis or modeling.\n",
    "\n",
    "### Further Steps\n",
    "- Investigate why certain events have missing `ProductID`, `Amount`, and `Outcome` values.\n",
    "- Determine if imputing missing values or filtering out non-transactional events is necessary for specific analyses.\n",
    "- Explore relationships between different event types and user behavior."
   ]
  },
  {
   "cell_type": "markdown",
   "id": "682bd896",
   "metadata": {
    "papermill": {
     "duration": 0.006653,
     "end_time": "2024-07-26T07:48:22.163387",
     "exception": false,
     "start_time": "2024-07-26T07:48:22.156734",
     "status": "completed"
    },
    "tags": []
   },
   "source": [
    "# Investigate The Missing Value\n",
    "\n",
    "The analysis reveals a clear correlation between specific event types and the presence of `ProductID`, `Amount`, and `Outcome`. `ProductID` is consistently associated with `product_view`, `add_to_cart`, and `purchase` events, while it is absent in `page_view`, `login`, `click`, and `logout` events. Similarly, `Amount` and `Outcome` are exclusively present during `purchase` events, indicating their direct relevance to purchase transactions. These insights highlight that interactions involving products are more likely to have associated product IDs, while financial details like amount and outcome are pertinent only to purchases. This understanding is crucial for further analysis and predictive modeling, as it delineates the contexts in which these fields are populated."
   ]
  },
  {
   "cell_type": "code",
   "execution_count": 9,
   "id": "ea63eb1f",
   "metadata": {
    "execution": {
     "iopub.execute_input": "2024-07-26T07:48:22.178461Z",
     "iopub.status.busy": "2024-07-26T07:48:22.178039Z",
     "iopub.status.idle": "2024-07-26T07:48:22.984367Z",
     "shell.execute_reply": "2024-07-26T07:48:22.983274Z"
    },
    "papermill": {
     "duration": 0.816547,
     "end_time": "2024-07-26T07:48:22.986577",
     "exception": false,
     "start_time": "2024-07-26T07:48:22.170030",
     "status": "completed"
    },
    "tags": []
   },
   "outputs": [
    {
     "data": {
      "image/png": "[encoded data removed]",
      "text/plain": [
       "<Figure size 1800x400 with 3 Axes>"
      ]
     },
     "metadata": {},
     "output_type": "display_data"
    }
   ],
   "source": [
    "# Function to plot missing values for multiple columns\n",
    "def plot_missing_by_event(columns):\n",
    "    num_columns = len(columns)\n",
    "    fig, axes = plt.subplots(1, num_columns, figsize=(6 * num_columns, 4))\n",
    "\n",
    "    for i, column_name in enumerate(columns):\n",
    "        # Calculate the number and percentage of missing values for the specified column by EventType\n",
    "        missing_count = df.groupby('EventType')[column_name].apply(lambda x: x.isnull().sum()).reset_index(name='MissingCount')\n",
    "        missing_percentage = df.groupby('EventType')[column_name].apply(lambda x: x.isnull().mean() * 100).reset_index(name='MissingPercentage')\n",
    "\n",
    "        # Plot the number of missing values by EventType\n",
    "        sns.barplot(x='EventType', y='MissingCount', data=missing_count, ax=axes[i])\n",
    "        axes[i].set_title(f'Number of Missing Values in {column_name} by EventType')\n",
    "        axes[i].set_ylabel('Number of Missing Values')\n",
    "        axes[i].set_xlabel('EventType')\n",
    "        axes[i].tick_params(axis='x', rotation=45)\n",
    "\n",
    "    # Adjust layout\n",
    "    plt.tight_layout()\n",
    "    plt.show()\n",
    "\n",
    "# Example usage\n",
    "columns_to_plot = ['ProductID', 'Amount', 'Outcome']\n",
    "plot_missing_by_event(columns_to_plot)"
   ]
  },
  {
   "cell_type": "markdown",
   "id": "6bc32b04",
   "metadata": {
    "papermill": {
     "duration": 0.007429,
     "end_time": "2024-07-26T07:48:23.001810",
     "exception": false,
     "start_time": "2024-07-26T07:48:22.994381",
     "status": "completed"
    },
    "tags": []
   },
   "source": [
    "### Summary (Investigation of Missing Value)\n",
    "\n",
    "**1. ProductID:**\n",
    "   - Missing values are present in the `ProductID` column for the following event types: `login`, `click`, `logout`, and `page_view`.\n",
    "   - **Conclusion:** These event types do not involve specific products, which explains the absence of `ProductID`.\n",
    "\n",
    "**2. Amount:**\n",
    "   - Missing values are present in the `Amount` column for all event types except `purchase`.\n",
    "   - **Conclusion:** Only purchase events involve monetary transactions, hence the `Amount` field is populated exclusively for these events.\n",
    "\n",
    "**3. Outcome:**\n",
    "   - Similar to `Amount`, the `Outcome` column has missing values for all event types except `purchase`.\n",
    "   - **Conclusion:** The `Outcome` field is only relevant for purchase events, where the outcome of the transaction (e.g., purchase completion status) is recorded.\n",
    "   \n",
    "#### Next Step\n",
    "The missing data is having part in overall `ProductID`, `Amount` & `Outcome` data distribution, absolutely **cannot be filled or erased** to keep our analysis having less bias. Now we need to investigate the corelation between `UserID`, `SessionID` & `Timestamp` to the purchase event, and maybe we could find the purchase patterns based on time and the event."
   ]
  },
  {
   "cell_type": "markdown",
   "id": "3415ac57",
   "metadata": {
    "papermill": {
     "duration": 0.007261,
     "end_time": "2024-07-26T07:48:23.016632",
     "exception": false,
     "start_time": "2024-07-26T07:48:23.009371",
     "status": "completed"
    },
    "tags": []
   },
   "source": [
    "# Exploring Correlations\n",
    "We know all the data corelated even for the mising or `NaN` value, i think we might find a strong reason for that missing value by looking the `Timestamp` and the event."
   ]
  },
  {
   "cell_type": "code",
   "execution_count": 10,
   "id": "28a10ebf",
   "metadata": {
    "execution": {
     "iopub.execute_input": "2024-07-26T07:48:23.033683Z",
     "iopub.status.busy": "2024-07-26T07:48:23.032946Z",
     "iopub.status.idle": "2024-07-26T07:48:23.180670Z",
     "shell.execute_reply": "2024-07-26T07:48:23.179724Z"
    },
    "papermill": {
     "duration": 0.159043,
     "end_time": "2024-07-26T07:48:23.183221",
     "exception": false,
     "start_time": "2024-07-26T07:48:23.024178",
     "status": "completed"
    },
    "tags": []
   },
   "outputs": [],
   "source": [
    "# Load the dataset\n",
    "df_2 = pd.read_csv(\"/kaggle/input/e-commerce-clickstream-and-transaction-dataset/ecommerce_clickstream_transactions.csv\")\n",
    "\n",
    "# Convert the Timestamp column to datetime format for accurate sorting\n",
    "df_2['Timestamp'] = pd.to_datetime(df_2['Timestamp'])"
   ]
  },
  {
   "cell_type": "markdown",
   "id": "99773afc",
   "metadata": {
    "papermill": {
     "duration": 0.007729,
     "end_time": "2024-07-26T07:48:23.199704",
     "exception": false,
     "start_time": "2024-07-26T07:48:23.191975",
     "status": "completed"
    },
    "tags": []
   },
   "source": [
    "I think the timestamp here act more in terms of time series event, it might be insightful if we sort it per user.\n",
    "\n",
    "*Disclaimer: I cannot conclude the `SessionID` to anything rather than recording session, because the recording was performed in different days in just 1 session. For now i will ignore the `SessionID` because of the clarity problem.*"
   ]
  },
  {
   "cell_type": "code",
   "execution_count": 11,
   "id": "454ff82a",
   "metadata": {
    "execution": {
     "iopub.execute_input": "2024-07-26T07:48:23.217628Z",
     "iopub.status.busy": "2024-07-26T07:48:23.216706Z",
     "iopub.status.idle": "2024-07-26T07:48:23.281989Z",
     "shell.execute_reply": "2024-07-26T07:48:23.280918Z"
    },
    "papermill": {
     "duration": 0.076377,
     "end_time": "2024-07-26T07:48:23.284301",
     "exception": false,
     "start_time": "2024-07-26T07:48:23.207924",
     "status": "completed"
    },
    "tags": []
   },
   "outputs": [
    {
     "data": {
      "text/html": [
       "<div>\n",
       "<style scoped>\n",
       "    .dataframe tbody tr th:only-of-type {\n",
       "        vertical-align: middle;\n",
       "    }\n",
       "\n",
       "    .dataframe tbody tr th {\n",
       "        vertical-align: top;\n",
       "    }\n",
       "\n",
       "    .dataframe thead th {\n",
       "        text-align: right;\n",
       "    }\n",
       "</style>\n",
       "<table border=\"1\" class=\"dataframe\">\n",
       "  <thead>\n",
       "    <tr style=\"text-align: right;\">\n",
       "      <th></th>\n",
       "      <th>UserID</th>\n",
       "      <th>SessionID</th>\n",
       "      <th>Timestamp</th>\n",
       "      <th>EventType</th>\n",
       "      <th>ProductID</th>\n",
       "      <th>Amount</th>\n",
       "      <th>Outcome</th>\n",
       "    </tr>\n",
       "  </thead>\n",
       "  <tbody>\n",
       "    <tr>\n",
       "      <th>0</th>\n",
       "      <td>1</td>\n",
       "      <td>1</td>\n",
       "      <td>2024-01-01 23:09:51.956825</td>\n",
       "      <td>page_view</td>\n",
       "      <td>NaN</td>\n",
       "      <td>NaN</td>\n",
       "      <td>NaN</td>\n",
       "    </tr>\n",
       "    <tr>\n",
       "      <th>1</th>\n",
       "      <td>1</td>\n",
       "      <td>4</td>\n",
       "      <td>2024-01-02 00:15:51.420238</td>\n",
       "      <td>add_to_cart</td>\n",
       "      <td>prod_6144</td>\n",
       "      <td>NaN</td>\n",
       "      <td>NaN</td>\n",
       "    </tr>\n",
       "    <tr>\n",
       "      <th>2</th>\n",
       "      <td>1</td>\n",
       "      <td>5</td>\n",
       "      <td>2024-01-03 23:51:05.729189</td>\n",
       "      <td>logout</td>\n",
       "      <td>NaN</td>\n",
       "      <td>NaN</td>\n",
       "      <td>NaN</td>\n",
       "    </tr>\n",
       "    <tr>\n",
       "      <th>3</th>\n",
       "      <td>1</td>\n",
       "      <td>4</td>\n",
       "      <td>2024-01-04 09:25:49.705624</td>\n",
       "      <td>add_to_cart</td>\n",
       "      <td>prod_1102</td>\n",
       "      <td>NaN</td>\n",
       "      <td>NaN</td>\n",
       "    </tr>\n",
       "    <tr>\n",
       "      <th>4</th>\n",
       "      <td>1</td>\n",
       "      <td>8</td>\n",
       "      <td>2024-01-04 17:09:29.677060</td>\n",
       "      <td>click</td>\n",
       "      <td>NaN</td>\n",
       "      <td>NaN</td>\n",
       "      <td>NaN</td>\n",
       "    </tr>\n",
       "    <tr>\n",
       "      <th>5</th>\n",
       "      <td>1</td>\n",
       "      <td>9</td>\n",
       "      <td>2024-01-06 04:33:39.275154</td>\n",
       "      <td>page_view</td>\n",
       "      <td>NaN</td>\n",
       "      <td>NaN</td>\n",
       "      <td>NaN</td>\n",
       "    </tr>\n",
       "    <tr>\n",
       "      <th>6</th>\n",
       "      <td>1</td>\n",
       "      <td>8</td>\n",
       "      <td>2024-01-13 19:09:28.166082</td>\n",
       "      <td>product_view</td>\n",
       "      <td>prod_9816</td>\n",
       "      <td>NaN</td>\n",
       "      <td>NaN</td>\n",
       "    </tr>\n",
       "    <tr>\n",
       "      <th>7</th>\n",
       "      <td>1</td>\n",
       "      <td>7</td>\n",
       "      <td>2024-01-17 08:27:34.705063</td>\n",
       "      <td>add_to_cart</td>\n",
       "      <td>prod_5915</td>\n",
       "      <td>NaN</td>\n",
       "      <td>NaN</td>\n",
       "    </tr>\n",
       "    <tr>\n",
       "      <th>8</th>\n",
       "      <td>1</td>\n",
       "      <td>3</td>\n",
       "      <td>2024-01-19 15:04:33.065650</td>\n",
       "      <td>page_view</td>\n",
       "      <td>NaN</td>\n",
       "      <td>NaN</td>\n",
       "      <td>NaN</td>\n",
       "    </tr>\n",
       "    <tr>\n",
       "      <th>9</th>\n",
       "      <td>1</td>\n",
       "      <td>5</td>\n",
       "      <td>2024-01-19 16:51:29.413903</td>\n",
       "      <td>purchase</td>\n",
       "      <td>prod_6690</td>\n",
       "      <td>149.270047</td>\n",
       "      <td>purchase</td>\n",
       "    </tr>\n",
       "    <tr>\n",
       "      <th>10</th>\n",
       "      <td>1</td>\n",
       "      <td>3</td>\n",
       "      <td>2024-01-21 19:23:27.047146</td>\n",
       "      <td>login</td>\n",
       "      <td>NaN</td>\n",
       "      <td>NaN</td>\n",
       "      <td>NaN</td>\n",
       "    </tr>\n",
       "    <tr>\n",
       "      <th>11</th>\n",
       "      <td>1</td>\n",
       "      <td>4</td>\n",
       "      <td>2024-01-27 10:05:11.806262</td>\n",
       "      <td>login</td>\n",
       "      <td>NaN</td>\n",
       "      <td>NaN</td>\n",
       "      <td>NaN</td>\n",
       "    </tr>\n",
       "    <tr>\n",
       "      <th>12</th>\n",
       "      <td>1</td>\n",
       "      <td>7</td>\n",
       "      <td>2024-01-28 08:26:04.060285</td>\n",
       "      <td>product_view</td>\n",
       "      <td>prod_1392</td>\n",
       "      <td>NaN</td>\n",
       "      <td>NaN</td>\n",
       "    </tr>\n",
       "    <tr>\n",
       "      <th>13</th>\n",
       "      <td>1</td>\n",
       "      <td>2</td>\n",
       "      <td>2024-01-30 21:47:38.829172</td>\n",
       "      <td>page_view</td>\n",
       "      <td>NaN</td>\n",
       "      <td>NaN</td>\n",
       "      <td>NaN</td>\n",
       "    </tr>\n",
       "    <tr>\n",
       "      <th>14</th>\n",
       "      <td>1</td>\n",
       "      <td>1</td>\n",
       "      <td>2024-02-01 05:13:26.944169</td>\n",
       "      <td>add_to_cart</td>\n",
       "      <td>prod_4965</td>\n",
       "      <td>NaN</td>\n",
       "      <td>NaN</td>\n",
       "    </tr>\n",
       "    <tr>\n",
       "      <th>15</th>\n",
       "      <td>1</td>\n",
       "      <td>3</td>\n",
       "      <td>2024-02-02 22:42:42.062903</td>\n",
       "      <td>add_to_cart</td>\n",
       "      <td>prod_8364</td>\n",
       "      <td>NaN</td>\n",
       "      <td>NaN</td>\n",
       "    </tr>\n",
       "    <tr>\n",
       "      <th>16</th>\n",
       "      <td>1</td>\n",
       "      <td>9</td>\n",
       "      <td>2024-02-08 19:45:50.281997</td>\n",
       "      <td>page_view</td>\n",
       "      <td>NaN</td>\n",
       "      <td>NaN</td>\n",
       "      <td>NaN</td>\n",
       "    </tr>\n",
       "    <tr>\n",
       "      <th>17</th>\n",
       "      <td>1</td>\n",
       "      <td>3</td>\n",
       "      <td>2024-02-13 21:58:06.439701</td>\n",
       "      <td>click</td>\n",
       "      <td>NaN</td>\n",
       "      <td>NaN</td>\n",
       "      <td>NaN</td>\n",
       "    </tr>\n",
       "    <tr>\n",
       "      <th>18</th>\n",
       "      <td>1</td>\n",
       "      <td>1</td>\n",
       "      <td>2024-02-14 15:41:53.071258</td>\n",
       "      <td>login</td>\n",
       "      <td>NaN</td>\n",
       "      <td>NaN</td>\n",
       "      <td>NaN</td>\n",
       "    </tr>\n",
       "    <tr>\n",
       "      <th>19</th>\n",
       "      <td>1</td>\n",
       "      <td>3</td>\n",
       "      <td>2024-02-15 12:46:46.387330</td>\n",
       "      <td>add_to_cart</td>\n",
       "      <td>prod_9851</td>\n",
       "      <td>NaN</td>\n",
       "      <td>NaN</td>\n",
       "    </tr>\n",
       "  </tbody>\n",
       "</table>\n",
       "</div>"
      ],
      "text/plain": [
       "    UserID  SessionID                  Timestamp     EventType  ProductID  \\\n",
       "0        1          1 2024-01-01 23:09:51.956825     page_view        NaN   \n",
       "1        1          4 2024-01-02 00:15:51.420238   add_to_cart  prod_6144   \n",
       "2        1          5 2024-01-03 23:51:05.729189        logout        NaN   \n",
       "3        1          4 2024-01-04 09:25:49.705624   add_to_cart  prod_1102   \n",
       "4        1          8 2024-01-04 17:09:29.677060         click        NaN   \n",
       "5        1          9 2024-01-06 04:33:39.275154     page_view        NaN   \n",
       "6        1          8 2024-01-13 19:09:28.166082  product_view  prod_9816   \n",
       "7        1          7 2024-01-17 08:27:34.705063   add_to_cart  prod_5915   \n",
       "8        1          3 2024-01-19 15:04:33.065650     page_view        NaN   \n",
       "9        1          5 2024-01-19 16:51:29.413903      purchase  prod_6690   \n",
       "10       1          3 2024-01-21 19:23:27.047146         login        NaN   \n",
       "11       1          4 2024-01-27 10:05:11.806262         login        NaN   \n",
       "12       1          7 2024-01-28 08:26:04.060285  product_view  prod_1392   \n",
       "13       1          2 2024-01-30 21:47:38.829172     page_view        NaN   \n",
       "14       1          1 2024-02-01 05:13:26.944169   add_to_cart  prod_4965   \n",
       "15       1          3 2024-02-02 22:42:42.062903   add_to_cart  prod_8364   \n",
       "16       1          9 2024-02-08 19:45:50.281997     page_view        NaN   \n",
       "17       1          3 2024-02-13 21:58:06.439701         click        NaN   \n",
       "18       1          1 2024-02-14 15:41:53.071258         login        NaN   \n",
       "19       1          3 2024-02-15 12:46:46.387330   add_to_cart  prod_9851   \n",
       "\n",
       "        Amount   Outcome  \n",
       "0          NaN       NaN  \n",
       "1          NaN       NaN  \n",
       "2          NaN       NaN  \n",
       "3          NaN       NaN  \n",
       "4          NaN       NaN  \n",
       "5          NaN       NaN  \n",
       "6          NaN       NaN  \n",
       "7          NaN       NaN  \n",
       "8          NaN       NaN  \n",
       "9   149.270047  purchase  \n",
       "10         NaN       NaN  \n",
       "11         NaN       NaN  \n",
       "12         NaN       NaN  \n",
       "13         NaN       NaN  \n",
       "14         NaN       NaN  \n",
       "15         NaN       NaN  \n",
       "16         NaN       NaN  \n",
       "17         NaN       NaN  \n",
       "18         NaN       NaN  \n",
       "19         NaN       NaN  "
      ]
     },
     "execution_count": 11,
     "metadata": {},
     "output_type": "execute_result"
    }
   ],
   "source": [
    "# Sort the dataframe by UserID, SessionID, and Timestamp (descending order)\n",
    "df_ts2 = df_2.sort_values(by=['UserID', 'Timestamp'], ascending=[True, True])\n",
    "\n",
    "# Reset the index for the sorted dataframe\n",
    "df_ts2 = df_ts2.reset_index(drop=True)\n",
    "df_ts2.head(20)"
   ]
  },
  {
   "cell_type": "markdown",
   "id": "f3cd33a9",
   "metadata": {
    "papermill": {
     "duration": 0.008347,
     "end_time": "2024-07-26T07:48:23.300676",
     "exception": false,
     "start_time": "2024-07-26T07:48:23.292329",
     "status": "completed"
    },
    "tags": []
   },
   "source": [
    "#### Quick Conclusion\n",
    "We can see each purchase require user to see product and doing some event first, i'll keep that in mind for future feature engineering"
   ]
  },
  {
   "cell_type": "markdown",
   "id": "26406581",
   "metadata": {
    "papermill": {
     "duration": 0.008195,
     "end_time": "2024-07-26T07:48:23.316934",
     "exception": false,
     "start_time": "2024-07-26T07:48:23.308739",
     "status": "completed"
    },
    "tags": []
   },
   "source": [
    "Since i ignore the `SessionID`, i need make sure that the `SessionID` do not alter the user purchase by watching it's distribution. If there any intense dynamic, it should have impact on the purchase, and if it's not, it will be safe to ignore the `SessionID`."
   ]
  },
  {
   "cell_type": "code",
   "execution_count": 12,
   "id": "212db9be",
   "metadata": {
    "execution": {
     "iopub.execute_input": "2024-07-26T07:48:23.335339Z",
     "iopub.status.busy": "2024-07-26T07:48:23.334919Z",
     "iopub.status.idle": "2024-07-26T07:48:23.348790Z",
     "shell.execute_reply": "2024-07-26T07:48:23.347853Z"
    },
    "papermill": {
     "duration": 0.02565,
     "end_time": "2024-07-26T07:48:23.351064",
     "exception": false,
     "start_time": "2024-07-26T07:48:23.325414",
     "status": "completed"
    },
    "tags": []
   },
   "outputs": [],
   "source": [
    "# Filter the dataframe to include only purchase events\n",
    "df_purchases = df_ts2[df_ts2['EventType'] == 'purchase']"
   ]
  },
  {
   "cell_type": "code",
   "execution_count": 13,
   "id": "b2ac3c48",
   "metadata": {
    "execution": {
     "iopub.execute_input": "2024-07-26T07:48:23.369163Z",
     "iopub.status.busy": "2024-07-26T07:48:23.368798Z",
     "iopub.status.idle": "2024-07-26T07:48:23.643060Z",
     "shell.execute_reply": "2024-07-26T07:48:23.641977Z"
    },
    "papermill": {
     "duration": 0.285833,
     "end_time": "2024-07-26T07:48:23.645318",
     "exception": false,
     "start_time": "2024-07-26T07:48:23.359485",
     "status": "completed"
    },
    "tags": []
   },
   "outputs": [
    {
     "data": {
      "image/png": "[encoded data removed]",
      "text/plain": [
       "<Figure size 600x300 with 1 Axes>"
      ]
     },
     "metadata": {},
     "output_type": "display_data"
    }
   ],
   "source": [
    "# Count the number of purchases by SessionID\n",
    "purchase_counts_by_session = df_purchases['SessionID'].value_counts().reset_index()\n",
    "purchase_counts_by_session.columns = ['SessionID', 'PurchaseCount']\n",
    "\n",
    "# Plot the distribution of purchases by SessionID\n",
    "plt.figure(figsize=(6, 3))\n",
    "sns.barplot(x='SessionID', y='PurchaseCount', data=purchase_counts_by_session)\n",
    "plt.title('Distribution of Purchases by SessionID')\n",
    "plt.ylabel('Number of Purchases')\n",
    "plt.xlabel('SessionID')\n",
    "plt.xticks(rotation=90)\n",
    "plt.show()"
   ]
  },
  {
   "cell_type": "markdown",
   "id": "b8630c78",
   "metadata": {
    "papermill": {
     "duration": 0.008233,
     "end_time": "2024-07-26T07:48:23.662357",
     "exception": false,
     "start_time": "2024-07-26T07:48:23.654124",
     "status": "completed"
    },
    "tags": []
   },
   "source": [
    "I also need to see the distribution of purchased product per user to see any trends or dynamic per user"
   ]
  },
  {
   "cell_type": "code",
   "execution_count": 14,
   "id": "5c13c6c3",
   "metadata": {
    "execution": {
     "iopub.execute_input": "2024-07-26T07:48:23.681216Z",
     "iopub.status.busy": "2024-07-26T07:48:23.680488Z",
     "iopub.status.idle": "2024-07-26T07:48:25.476518Z",
     "shell.execute_reply": "2024-07-26T07:48:25.475560Z"
    },
    "papermill": {
     "duration": 1.808028,
     "end_time": "2024-07-26T07:48:25.478719",
     "exception": false,
     "start_time": "2024-07-26T07:48:23.670691",
     "status": "completed"
    },
    "tags": []
   },
   "outputs": [
    {
     "data": {
      "text/html": [
       "        <script type=\"text/javascript\">\n",
       "        window.PlotlyConfig = {MathJaxConfig: 'local'};\n",
       "        if (window.MathJax && window.MathJax.Hub && window.MathJax.Hub.Config) {window.MathJax.Hub.Config({SVG: {font: \"STIX-Web\"}});}\n",
       "        if (typeof require !== 'undefined') {\n",
       "        require.undef(\"plotly\");\n",
       "        requirejs.config({\n",
       "            paths: {\n",
       "                'plotly': ['https://cdn.plot.ly/plotly-2.27.0.min']\n",
       "            }\n",
       "        });\n",
       "        require(['plotly'], function(Plotly) {\n",
       "            window._Plotly = Plotly;\n",
       "        });\n",
       "        }\n",
       "        </script>\n",
       "        "
      ]
     },
     "metadata": {},
     "output_type": "display_data"
    },
    {
     "data": {
      "text/html": [
       "<div>                            <div id=\"62ae4de2-54c8-47ff-aaf9-56361a9b870a\" class=\"plotly-graph-div\" style=\"height:525px; width:100%;\"></div>            <script type=\"text/javascript\">                require([\"plotly\"], function(Plotly) {                    window.PLOTLYENV=window.PLOTLYENV || {};                                    if (document.getElementById(\"62ae4de2-54c8-47ff-aaf9-56361a9b870a\")) {                    Plotly.newPlot(                        \"62ae4de2-54c8-47ff-aaf9-56361a9b870a\",                        [{\"alignmentgroup\":\"True\",\"hovertemplate\":\"UserID=%{x}\\u003cbr\\u003ePurchaseCount=%{y}\\u003cextra\\u003e\\u003c\\u002fextra\\u003e\",\"legendgroup\":\"\",\"marker\":{\"color\":\"#636efa\",\"pattern\":{\"shape\":\"\"}},\"name\":\"\",\"offsetgroup\":\"\",\"orientation\":\"v\",\"showlegend\":false,\"textposition\":\"auto\",\"x\":[510,761,479,455,736,327,885,308,277,254,568,919,416,239,88,286,378,344,364,178,938,772,91,357,10,302,426,480,547,128,954,830,573,260,753,855,592,220,528,990,28,266,656,639,724,718,636,295,371,495,905,544,9,214,215,113,94,346,6,624,464,627,137,265,606,414,609,53,54,936,878,219,212,767,170,100,101,509,865,541,847,759,452,848,342,183,746,745,338,513,720,119,721,566,224,386,385,939,270,221,456,559,487,962,565,494,666,264,358,389,675,463,607,381,681,629,615,618,165,309,319,582,180,271,356,172,269,347,628,161,574,189,330,216,694,690,689,554,706,683,236,646,345,313,640,317,635,323,731,605,261,727,1000,465,980,977,813,924,25,362,136,816,373,130,895,478,50,126,822,39,405,45,946,515,923,65,942,802,150,800,809,387,886,379,499,803,421,806,808,80,916,497,679,630,644,660,257,659,485,925,647,560,263,400,307,472,952,448,451,583,427,299,298,423,595,986,17,599,315,978,459,417,415,283,610,412,32,35,466,625,897,154,684,210,111,846,207,206,543,511,518,835,123,810,788,349,750,127,194,811,821,739,179,181,742,184,532,850,882,359,890,783,552,780,699,774,859,801,148,2,701,435,876,147,354,815,424,454,526,530,534,348,520,522,505,556,333,388,329,500,548,491,328,393,507,365,395,561,473,471,470,341,563,409,320,383,446,579,781,64,67,920,70,902,901,900,899,79,894,891,86,87,93,872,102,858,114,841,836,138,926,927,931,982,999,996,7,8,12,13,988,15,984,974,57,972,27,29,970,968,966,959,40,953,795,843,162,667,743,198,725,714,696,692,687,668,251,186,252,259,621,613,603,600,596,593,744,691,771,176,163,166,762,889,457,967,823,634,461,820,623,818,617,975,814,642,608,567,601,525,789,992,589,450,577,963,652,881,710,747,734,540,730,867,716,538,906,909,713,854,955,784,580,483,678,932,765,934,937,940,838,704,501,84,193,195,26,121,396,213,43,222,223,225,390,321,109,107,243,106,48,367,59,360,339,90,85,158,69,289,77,334,71,74,134,316,24,187,135,173,432,429,19,420,146,585,633,622,98,274,273,626,268,875,873,576,877,311,571,869,637,868,253,314,103,306,619,590,89,591,155,792,770,768,794,796,798,888,278,799,171,156,281,884,643,581,96,616,246,645,837,142,141,191,708,140,211,834,833,205,433,204,722,723,201,132,197,732,733,139,703,697,755,182,648,862,861,754,658,662,175,853,671,144,673,110,237,676,116,231,118,751,695,677,434,503,453,374,951,370,413,976,335,23,407,66,467,488,486,514,61,535,52,38,352,475,353,476,366,398,401,399,935,524,949,418,983,991,322,498,944,943,376,912,438,913,439,326,558,914,18,933,493,989,445,947,332,229,700,698,232,209,840,37,227,228,961,688,384,489,685,42,702,120,705,217,117,33,829,993,177,985,757,16,149,760,11,168,36,995,769,791,437,787,777,4,807,185,458,979,719,827,965,125,129,115,817,133,196,30,971,973,738,192,411,233,782,350,531,62,539,382,537,276,351,272,340,928,75,586,929,99,930,883,63,903,915,78,896,293,297,917,291,892,301,604,550,288,336,68,921,331,256,575,506,661,312,508,664,665,572,238,372,562,570,911,945,46,569,242,597,310,651,250,249,519,866,247,305,104,369,245,578,860,105,898,76,786,153,145,14,904,112,81,981,845,851,852,842,108,47,948,950,856,941,51,56,122,871,874,826,60,969,887,893,82,20,143,908,717,159,620,304,300,594,598,602,290,282,611,612,275,203,267,262,631,657,669,670,234,693,709,324,557,551,337,436,441,444,449,428,410,408,404,474,397,391,380,377,375,512,517,361,527,542,711,1,735,169,200,174,773,160,766,776,167,749,737,188,355,545,536,763,343,58,758,529,828,546,549,756,55,553,555,325,564,72,303,588,296,294,521,797,764,469,997,157,440,994,5,443,987,430,422,460,468,790,516,403,31,402,481,958,957,484,152,502,190,49,83,804,663,870,879,97,729,857,849,632,258,672,880,726,641,248,649,864,650,244,235,674,92,707,208,712,279,202,131,218,34,831,3,779,496,793,492,998,394,686,241,41,832,964,240,462,839,778,960,775,825,431,477,124,741,504,318,199,728,918,715,655,95,73,922,752,280,584,614,812,284,819,287,255,533,638,151,863,654,523,442,824,44,490,785,482,587,907,740,368,292,285,653,682,363,164,226,21,22,419,956,844,680,805,447,392,230,748,406,910,425],\"xaxis\":\"x\",\"y\":[22,21,21,20,20,20,20,19,19,19,19,19,19,18,18,18,18,18,18,18,18,18,18,18,18,18,18,17,17,17,17,17,17,17,17,17,17,17,17,17,17,17,16,16,16,16,16,16,16,16,16,16,16,16,16,16,16,16,16,16,16,16,16,16,16,16,16,16,16,16,15,15,15,15,15,15,15,15,15,15,15,15,15,15,15,15,15,15,15,15,15,15,15,15,15,15,15,15,15,15,15,15,15,15,15,15,15,15,15,15,15,15,15,15,15,15,14,14,14,14,14,14,14,14,14,14,14,14,14,14,14,14,14,14,14,14,14,14,14,14,14,14,14,14,14,14,14,14,14,14,14,14,14,14,14,14,14,14,14,14,14,14,14,14,14,14,14,14,14,14,14,14,14,14,14,14,14,14,14,14,14,14,14,14,14,14,14,14,14,13,13,13,13,13,13,13,13,13,13,13,13,13,13,13,13,13,13,13,13,13,13,13,13,13,13,13,13,13,13,13,13,13,13,13,13,13,13,13,13,13,13,13,13,13,13,13,13,13,13,13,13,13,13,13,13,13,13,13,13,13,13,13,13,13,13,13,13,13,13,13,13,13,13,13,13,13,13,13,13,13,13,13,13,13,13,13,12,12,12,12,12,12,12,12,12,12,12,12,12,12,12,12,12,12,12,12,12,12,12,12,12,12,12,12,12,12,12,12,12,12,12,12,12,12,12,12,12,12,12,12,12,12,12,12,12,12,12,12,12,12,12,12,12,12,12,12,12,12,12,12,12,12,12,12,12,12,12,12,12,12,12,12,12,12,12,12,12,12,12,12,12,12,12,12,12,12,12,12,12,12,12,12,12,12,12,12,12,12,12,12,12,12,12,11,11,11,11,11,11,11,11,11,11,11,11,11,11,11,11,11,11,11,11,11,11,11,11,11,11,11,11,11,11,11,11,11,11,11,11,11,11,11,11,11,11,11,11,11,11,11,11,11,11,11,11,11,11,11,11,11,11,11,11,11,11,11,11,11,11,11,11,11,11,11,11,11,11,11,11,11,11,11,11,11,11,11,11,11,11,11,11,11,11,11,11,10,10,10,10,10,10,10,10,10,10,10,10,10,10,10,10,10,10,10,10,10,10,10,10,10,10,10,10,10,10,10,10,10,10,10,10,10,10,10,10,10,10,10,10,10,10,10,10,10,10,10,10,10,10,10,10,10,10,10,10,10,10,10,10,10,10,10,10,10,10,10,10,10,10,10,10,10,10,10,10,10,10,10,10,10,10,10,10,10,10,10,10,10,10,10,10,10,10,10,10,10,10,10,10,10,10,10,10,10,10,10,10,10,10,10,10,10,10,10,10,10,10,10,10,10,10,10,10,10,10,10,10,10,10,10,10,10,10,10,10,10,10,9,9,9,9,9,9,9,9,9,9,9,9,9,9,9,9,9,9,9,9,9,9,9,9,9,9,9,9,9,9,9,9,9,9,9,9,9,9,9,9,9,9,9,9,9,9,9,9,9,9,9,9,9,9,9,9,9,9,9,9,9,9,9,9,9,9,9,9,9,9,9,9,9,9,9,9,9,9,9,9,9,9,9,9,9,9,9,9,9,9,9,9,9,9,9,9,9,9,9,9,9,9,9,9,9,9,9,9,9,9,9,9,9,9,9,9,9,9,9,9,9,9,9,9,9,9,9,9,8,8,8,8,8,8,8,8,8,8,8,8,8,8,8,8,8,8,8,8,8,8,8,8,8,8,8,8,8,8,8,8,8,8,8,8,8,8,8,8,8,8,8,8,8,8,8,8,8,8,8,8,8,8,8,8,8,8,8,8,8,8,8,8,8,8,8,8,8,8,8,8,8,8,8,8,8,8,8,8,8,8,8,8,8,8,8,8,8,8,8,8,8,8,7,7,7,7,7,7,7,7,7,7,7,7,7,7,7,7,7,7,7,7,7,7,7,7,7,7,7,7,7,7,7,7,7,7,7,7,7,7,7,7,7,7,7,7,7,7,7,7,7,7,7,7,7,7,7,7,7,7,7,7,7,7,7,7,7,7,7,7,7,7,7,7,7,7,7,7,7,7,7,7,6,6,6,6,6,6,6,6,6,6,6,6,6,6,6,6,6,6,6,6,6,6,6,6,6,6,6,6,6,6,6,6,6,6,6,6,6,6,6,6,6,6,6,6,6,6,6,6,6,6,5,5,5,5,5,5,5,5,5,5,5,5,5,5,5,5,5,5,5,5,5,5,5,5,4,4,4,4,4,3,3],\"yaxis\":\"y\",\"type\":\"bar\"}],                        {\"template\":{\"data\":{\"histogram2dcontour\":[{\"type\":\"histogram2dcontour\",\"colorbar\":{\"outlinewidth\":0,\"ticks\":\"\"},\"colorscale\":[[0.0,\"#0d0887\"],[0.1111111111111111,\"#46039f\"],[0.2222222222222222,\"#7201a8\"],[0.3333333333333333,\"#9c179e\"],[0.4444444444444444,\"#bd3786\"],[0.5555555555555556,\"#d8576b\"],[0.6666666666666666,\"#ed7953\"],[0.7777777777777778,\"#fb9f3a\"],[0.8888888888888888,\"#fdca26\"],[1.0,\"#f0f921\"]]}],\"choropleth\":[{\"type\":\"choropleth\",\"colorbar\":{\"outlinewidth\":0,\"ticks\":\"\"}}],\"histogram2d\":[{\"type\":\"histogram2d\",\"colorbar\":{\"outlinewidth\":0,\"ticks\":\"\"},\"colorscale\":[[0.0,\"#0d0887\"],[0.1111111111111111,\"#46039f\"],[0.2222222222222222,\"#7201a8\"],[0.3333333333333333,\"#9c179e\"],[0.4444444444444444,\"#bd3786\"],[0.5555555555555556,\"#d8576b\"],[0.6666666666666666,\"#ed7953\"],[0.7777777777777778,\"#fb9f3a\"],[0.8888888888888888,\"#fdca26\"],[1.0,\"#f0f921\"]]}],\"heatmap\":[{\"type\":\"heatmap\",\"colorbar\":{\"outlinewidth\":0,\"ticks\":\"\"},\"colorscale\":[[0.0,\"#0d0887\"],[0.1111111111111111,\"#46039f\"],[0.2222222222222222,\"#7201a8\"],[0.3333333333333333,\"#9c179e\"],[0.4444444444444444,\"#bd3786\"],[0.5555555555555556,\"#d8576b\"],[0.6666666666666666,\"#ed7953\"],[0.7777777777777778,\"#fb9f3a\"],[0.8888888888888888,\"#fdca26\"],[1.0,\"#f0f921\"]]}],\"heatmapgl\":[{\"type\":\"heatmapgl\",\"colorbar\":{\"outlinewidth\":0,\"ticks\":\"\"},\"colorscale\":[[0.0,\"#0d0887\"],[0.1111111111111111,\"#46039f\"],[0.2222222222222222,\"#7201a8\"],[0.3333333333333333,\"#9c179e\"],[0.4444444444444444,\"#bd3786\"],[0.5555555555555556,\"#d8576b\"],[0.6666666666666666,\"#ed7953\"],[0.7777777777777778,\"#fb9f3a\"],[0.8888888888888888,\"#fdca26\"],[1.0,\"#f0f921\"]]}],\"contourcarpet\":[{\"type\":\"contourcarpet\",\"colorbar\":{\"outlinewidth\":0,\"ticks\":\"\"}}],\"contour\":[{\"type\":\"contour\",\"colorbar\":{\"outlinewidth\":0,\"ticks\":\"\"},\"colorscale\":[[0.0,\"#0d0887\"],[0.1111111111111111,\"#46039f\"],[0.2222222222222222,\"#7201a8\"],[0.3333333333333333,\"#9c179e\"],[0.4444444444444444,\"#bd3786\"],[0.5555555555555556,\"#d8576b\"],[0.6666666666666666,\"#ed7953\"],[0.7777777777777778,\"#fb9f3a\"],[0.8888888888888888,\"#fdca26\"],[1.0,\"#f0f921\"]]}],\"surface\":[{\"type\":\"surface\",\"colorbar\":{\"outlinewidth\":0,\"ticks\":\"\"},\"colorscale\":[[0.0,\"#0d0887\"],[0.1111111111111111,\"#46039f\"],[0.2222222222222222,\"#7201a8\"],[0.3333333333333333,\"#9c179e\"],[0.4444444444444444,\"#bd3786\"],[0.5555555555555556,\"#d8576b\"],[0.6666666666666666,\"#ed7953\"],[0.7777777777777778,\"#fb9f3a\"],[0.8888888888888888,\"#fdca26\"],[1.0,\"#f0f921\"]]}],\"mesh3d\":[{\"type\":\"mesh3d\",\"colorbar\":{\"outlinewidth\":0,\"ticks\":\"\"}}],\"scatter\":[{\"fillpattern\":{\"fillmode\":\"overlay\",\"size\":10,\"solidity\":0.2},\"type\":\"scatter\"}],\"parcoords\":[{\"type\":\"parcoords\",\"line\":{\"colorbar\":{\"outlinewidth\":0,\"ticks\":\"\"}}}],\"scatterpolargl\":[{\"type\":\"scatterpolargl\",\"marker\":{\"colorbar\":{\"outlinewidth\":0,\"ticks\":\"\"}}}],\"bar\":[{\"error_x\":{\"color\":\"#2a3f5f\"},\"error_y\":{\"color\":\"#2a3f5f\"},\"marker\":{\"line\":{\"color\":\"#E5ECF6\",\"width\":0.5},\"pattern\":{\"fillmode\":\"overlay\",\"size\":10,\"solidity\":0.2}},\"type\":\"bar\"}],\"scattergeo\":[{\"type\":\"scattergeo\",\"marker\":{\"colorbar\":{\"outlinewidth\":0,\"ticks\":\"\"}}}],\"scatterpolar\":[{\"type\":\"scatterpolar\",\"marker\":{\"colorbar\":{\"outlinewidth\":0,\"ticks\":\"\"}}}],\"histogram\":[{\"marker\":{\"pattern\":{\"fillmode\":\"overlay\",\"size\":10,\"solidity\":0.2}},\"type\":\"histogram\"}],\"scattergl\":[{\"type\":\"scattergl\",\"marker\":{\"colorbar\":{\"outlinewidth\":0,\"ticks\":\"\"}}}],\"scatter3d\":[{\"type\":\"scatter3d\",\"line\":{\"colorbar\":{\"outlinewidth\":0,\"ticks\":\"\"}},\"marker\":{\"colorbar\":{\"outlinewidth\":0,\"ticks\":\"\"}}}],\"scattermapbox\":[{\"type\":\"scattermapbox\",\"marker\":{\"colorbar\":{\"outlinewidth\":0,\"ticks\":\"\"}}}],\"scatterternary\":[{\"type\":\"scatterternary\",\"marker\":{\"colorbar\":{\"outlinewidth\":0,\"ticks\":\"\"}}}],\"scattercarpet\":[{\"type\":\"scattercarpet\",\"marker\":{\"colorbar\":{\"outlinewidth\":0,\"ticks\":\"\"}}}],\"carpet\":[{\"aaxis\":{\"endlinecolor\":\"#2a3f5f\",\"gridcolor\":\"white\",\"linecolor\":\"white\",\"minorgridcolor\":\"white\",\"startlinecolor\":\"#2a3f5f\"},\"baxis\":{\"endlinecolor\":\"#2a3f5f\",\"gridcolor\":\"white\",\"linecolor\":\"white\",\"minorgridcolor\":\"white\",\"startlinecolor\":\"#2a3f5f\"},\"type\":\"carpet\"}],\"table\":[{\"cells\":{\"fill\":{\"color\":\"#EBF0F8\"},\"line\":{\"color\":\"white\"}},\"header\":{\"fill\":{\"color\":\"#C8D4E3\"},\"line\":{\"color\":\"white\"}},\"type\":\"table\"}],\"barpolar\":[{\"marker\":{\"line\":{\"color\":\"#E5ECF6\",\"width\":0.5},\"pattern\":{\"fillmode\":\"overlay\",\"size\":10,\"solidity\":0.2}},\"type\":\"barpolar\"}],\"pie\":[{\"automargin\":true,\"type\":\"pie\"}]},\"layout\":{\"autotypenumbers\":\"strict\",\"colorway\":[\"#636efa\",\"#EF553B\",\"#00cc96\",\"#ab63fa\",\"#FFA15A\",\"#19d3f3\",\"#FF6692\",\"#B6E880\",\"#FF97FF\",\"#FECB52\"],\"font\":{\"color\":\"#2a3f5f\"},\"hovermode\":\"closest\",\"hoverlabel\":{\"align\":\"left\"},\"paper_bgcolor\":\"white\",\"plot_bgcolor\":\"#E5ECF6\",\"polar\":{\"bgcolor\":\"#E5ECF6\",\"angularaxis\":{\"gridcolor\":\"white\",\"linecolor\":\"white\",\"ticks\":\"\"},\"radialaxis\":{\"gridcolor\":\"white\",\"linecolor\":\"white\",\"ticks\":\"\"}},\"ternary\":{\"bgcolor\":\"#E5ECF6\",\"aaxis\":{\"gridcolor\":\"white\",\"linecolor\":\"white\",\"ticks\":\"\"},\"baxis\":{\"gridcolor\":\"white\",\"linecolor\":\"white\",\"ticks\":\"\"},\"caxis\":{\"gridcolor\":\"white\",\"linecolor\":\"white\",\"ticks\":\"\"}},\"coloraxis\":{\"colorbar\":{\"outlinewidth\":0,\"ticks\":\"\"}},\"colorscale\":{\"sequential\":[[0.0,\"#0d0887\"],[0.1111111111111111,\"#46039f\"],[0.2222222222222222,\"#7201a8\"],[0.3333333333333333,\"#9c179e\"],[0.4444444444444444,\"#bd3786\"],[0.5555555555555556,\"#d8576b\"],[0.6666666666666666,\"#ed7953\"],[0.7777777777777778,\"#fb9f3a\"],[0.8888888888888888,\"#fdca26\"],[1.0,\"#f0f921\"]],\"sequentialminus\":[[0.0,\"#0d0887\"],[0.1111111111111111,\"#46039f\"],[0.2222222222222222,\"#7201a8\"],[0.3333333333333333,\"#9c179e\"],[0.4444444444444444,\"#bd3786\"],[0.5555555555555556,\"#d8576b\"],[0.6666666666666666,\"#ed7953\"],[0.7777777777777778,\"#fb9f3a\"],[0.8888888888888888,\"#fdca26\"],[1.0,\"#f0f921\"]],\"diverging\":[[0,\"#8e0152\"],[0.1,\"#c51b7d\"],[0.2,\"#de77ae\"],[0.3,\"#f1b6da\"],[0.4,\"#fde0ef\"],[0.5,\"#f7f7f7\"],[0.6,\"#e6f5d0\"],[0.7,\"#b8e186\"],[0.8,\"#7fbc41\"],[0.9,\"#4d9221\"],[1,\"#276419\"]]},\"xaxis\":{\"gridcolor\":\"white\",\"linecolor\":\"white\",\"ticks\":\"\",\"title\":{\"standoff\":15},\"zerolinecolor\":\"white\",\"automargin\":true,\"zerolinewidth\":2},\"yaxis\":{\"gridcolor\":\"white\",\"linecolor\":\"white\",\"ticks\":\"\",\"title\":{\"standoff\":15},\"zerolinecolor\":\"white\",\"automargin\":true,\"zerolinewidth\":2},\"scene\":{\"xaxis\":{\"backgroundcolor\":\"#E5ECF6\",\"gridcolor\":\"white\",\"linecolor\":\"white\",\"showbackground\":true,\"ticks\":\"\",\"zerolinecolor\":\"white\",\"gridwidth\":2},\"yaxis\":{\"backgroundcolor\":\"#E5ECF6\",\"gridcolor\":\"white\",\"linecolor\":\"white\",\"showbackground\":true,\"ticks\":\"\",\"zerolinecolor\":\"white\",\"gridwidth\":2},\"zaxis\":{\"backgroundcolor\":\"#E5ECF6\",\"gridcolor\":\"white\",\"linecolor\":\"white\",\"showbackground\":true,\"ticks\":\"\",\"zerolinecolor\":\"white\",\"gridwidth\":2}},\"shapedefaults\":{\"line\":{\"color\":\"#2a3f5f\"}},\"annotationdefaults\":{\"arrowcolor\":\"#2a3f5f\",\"arrowhead\":0,\"arrowwidth\":1},\"geo\":{\"bgcolor\":\"white\",\"landcolor\":\"#E5ECF6\",\"subunitcolor\":\"white\",\"showland\":true,\"showlakes\":true,\"lakecolor\":\"white\"},\"title\":{\"x\":0.05},\"mapbox\":{\"style\":\"light\"}}},\"xaxis\":{\"anchor\":\"y\",\"domain\":[0.0,1.0],\"title\":{\"text\":\"UserID\"},\"tickangle\":80},\"yaxis\":{\"anchor\":\"x\",\"domain\":[0.0,1.0],\"title\":{\"text\":\"Number of Purchases\"}},\"legend\":{\"tracegroupgap\":0},\"title\":{\"text\":\"Distribution of Purchased Products by UserID\"},\"barmode\":\"relative\"},                        {\"responsive\": true}                    ).then(function(){\n",
       "                            \n",
       "var gd = document.getElementById('62ae4de2-54c8-47ff-aaf9-56361a9b870a');\n",
       "var x = new MutationObserver(function (mutations, observer) {{\n",
       "        var display = window.getComputedStyle(gd).display;\n",
       "        if (!display || display === 'none') {{\n",
       "            console.log([gd, 'removed!']);\n",
       "            Plotly.purge(gd);\n",
       "            observer.disconnect();\n",
       "        }}\n",
       "}});\n",
       "\n",
       "// Listen for the removal of the full notebook cells\n",
       "var notebookContainer = gd.closest('#notebook-container');\n",
       "if (notebookContainer) {{\n",
       "    x.observe(notebookContainer, {childList: true});\n",
       "}}\n",
       "\n",
       "// Listen for the clearing of the current output cell\n",
       "var outputEl = gd.closest('.output');\n",
       "if (outputEl) {{\n",
       "    x.observe(outputEl, {childList: true});\n",
       "}}\n",
       "\n",
       "                        })                };                });            </script>        </div>"
      ]
     },
     "metadata": {},
     "output_type": "display_data"
    }
   ],
   "source": [
    "# Count the number of purchases by UserID\n",
    "purchase_counts = df_purchases['UserID'].value_counts().reset_index()\n",
    "purchase_counts.columns = ['UserID', 'PurchaseCount']\n",
    "\n",
    "# Create an interactive bar plot\n",
    "fig = px.bar(purchase_counts, x='UserID', y='PurchaseCount', title='Distribution of Purchased Products by UserID')\n",
    "fig.update_layout(xaxis_title='UserID', yaxis_title='Number of Purchases', xaxis=dict(tickangle=80))\n",
    "fig.show()"
   ]
  },
  {
   "cell_type": "code",
   "execution_count": 15,
   "id": "9922fe09",
   "metadata": {
    "execution": {
     "iopub.execute_input": "2024-07-26T07:48:25.498019Z",
     "iopub.status.busy": "2024-07-26T07:48:25.497366Z",
     "iopub.status.idle": "2024-07-26T07:48:25.505115Z",
     "shell.execute_reply": "2024-07-26T07:48:25.504053Z"
    },
    "papermill": {
     "duration": 0.019508,
     "end_time": "2024-07-26T07:48:25.507089",
     "exception": false,
     "start_time": "2024-07-26T07:48:25.487581",
     "status": "completed"
    },
    "tags": []
   },
   "outputs": [
    {
     "data": {
      "text/plain": [
       "UserID           510\n",
       "PurchaseCount     22\n",
       "Name: 0, dtype: int64"
      ]
     },
     "execution_count": 15,
     "metadata": {},
     "output_type": "execute_result"
    }
   ],
   "source": [
    "# Identify the user with the most purchases\n",
    "most_purchases = purchase_counts.iloc[0]\n",
    "most_purchases"
   ]
  },
  {
   "cell_type": "code",
   "execution_count": 16,
   "id": "fa464aeb",
   "metadata": {
    "execution": {
     "iopub.execute_input": "2024-07-26T07:48:25.526776Z",
     "iopub.status.busy": "2024-07-26T07:48:25.525898Z",
     "iopub.status.idle": "2024-07-26T07:48:25.533761Z",
     "shell.execute_reply": "2024-07-26T07:48:25.532619Z"
    },
    "papermill": {
     "duration": 0.01976,
     "end_time": "2024-07-26T07:48:25.535692",
     "exception": false,
     "start_time": "2024-07-26T07:48:25.515932",
     "status": "completed"
    },
    "tags": []
   },
   "outputs": [
    {
     "data": {
      "text/plain": [
       "UserID           425\n",
       "PurchaseCount      3\n",
       "Name: 999, dtype: int64"
      ]
     },
     "execution_count": 16,
     "metadata": {},
     "output_type": "execute_result"
    }
   ],
   "source": [
    "# Identify the user with the least purchases\n",
    "least_purchases = purchase_counts.iloc[-1]\n",
    "least_purchases"
   ]
  },
  {
   "cell_type": "markdown",
   "id": "9b757c2f",
   "metadata": {
    "papermill": {
     "duration": 0.009343,
     "end_time": "2024-07-26T07:48:25.554369",
     "exception": false,
     "start_time": "2024-07-26T07:48:25.545026",
     "status": "completed"
    },
    "tags": []
   },
   "source": [
    "## Conclusion and Insights (Exploring Correlations)\n",
    "\n",
    "Exploring the correlations within our dataset, particularly focusing on missing values (NaNs), can reveal underlying patterns. By examining timestamps and events, we can potentially identify reasons for these missing values. Timestamps are treated as indicators of time series events, and sorting by user can provide more insights.\n",
    "\n",
    "Sorting the dataset by `UserID` and `Timestamp` reveals that users generally perform various events before making a purchase. This pattern is useful for future feature engineering and understanding user behavior.\n",
    "\n",
    "To determine if the `SessionID` affects purchase behavior, we need to analyze its distribution. If the SessionID does not significantly impact purchase trends, it can be safely excluded from further analysis.\n",
    "\n",
    "Analyzing the distribution of purchased products per user shows that most purchases are concentrated among a few users. This indicates the presence of high-value customers, which could be crucial for targeted marketing strategies (clustering) and improving customer engagement (recomendations).\n",
    "\n",
    "### Key Findings\n",
    "\n",
    "- **User Interaction Patterns**: Users engage with products through multiple events before making a purchase.\n",
    "- **SessionID Analysis**: Ignoring SessionID does not appear to significantly impact the analysis of purchase behavior.\n",
    "- **Purchase Distribution**: A small number of users account for the majority of purchases, highlighting potential high-value customers.\n",
    "\n",
    "Understanding these patterns will help refine feature engineering approaches and enhance predictive models for user behavior in e-commerce platforms."
   ]
  },
  {
   "cell_type": "markdown",
   "id": "9628e233",
   "metadata": {
    "papermill": {
     "duration": 0.008756,
     "end_time": "2024-07-26T07:48:25.572227",
     "exception": false,
     "start_time": "2024-07-26T07:48:25.563471",
     "status": "completed"
    },
    "tags": []
   },
   "source": [
    "### Add-ons Explorations\n",
    "By looking the trends it might gave us insight for future engineering process"
   ]
  },
  {
   "cell_type": "code",
   "execution_count": 17,
   "id": "e70bc3fb",
   "metadata": {
    "execution": {
     "iopub.execute_input": "2024-07-26T07:48:25.591599Z",
     "iopub.status.busy": "2024-07-26T07:48:25.591215Z",
     "iopub.status.idle": "2024-07-26T07:48:25.974346Z",
     "shell.execute_reply": "2024-07-26T07:48:25.973224Z"
    },
    "papermill": {
     "duration": 0.395668,
     "end_time": "2024-07-26T07:48:25.976783",
     "exception": false,
     "start_time": "2024-07-26T07:48:25.581115",
     "status": "completed"
    },
    "tags": []
   },
   "outputs": [
    {
     "name": "stderr",
     "output_type": "stream",
     "text": [
      "/opt/conda/lib/python3.10/site-packages/seaborn/_oldcore.py:1119: FutureWarning:\n",
      "\n",
      "use_inf_as_na option is deprecated and will be removed in a future version. Convert inf values to NaN before operating instead.\n",
      "\n",
      "/opt/conda/lib/python3.10/site-packages/seaborn/_oldcore.py:1119: FutureWarning:\n",
      "\n",
      "use_inf_as_na option is deprecated and will be removed in a future version. Convert inf values to NaN before operating instead.\n",
      "\n",
      "/opt/conda/lib/python3.10/site-packages/seaborn/_oldcore.py:1075: FutureWarning:\n",
      "\n",
      "When grouping with a length-1 list-like, you will need to pass a length-1 tuple to get_group in a future version of pandas. Pass `(name,)` instead of `name` to silence this warning.\n",
      "\n",
      "/opt/conda/lib/python3.10/site-packages/seaborn/_oldcore.py:1075: FutureWarning:\n",
      "\n",
      "When grouping with a length-1 list-like, you will need to pass a length-1 tuple to get_group in a future version of pandas. Pass `(name,)` instead of `name` to silence this warning.\n",
      "\n"
     ]
    },
    {
     "data": {
      "image/png": "[encoded data removed]",
      "text/plain": [
       "<Figure size 1000x500 with 1 Axes>"
      ]
     },
     "metadata": {},
     "output_type": "display_data"
    }
   ],
   "source": [
    "df_purchases2 = df_ts2\n",
    "\n",
    "# Select only the first 4 unique users for the plot\n",
    "unique_users = df_purchases2['UserID'].unique()[:2]\n",
    "filtered_purchase_df = df_purchases2[df_purchases2['UserID'].isin(unique_users)]\n",
    "\n",
    "# Plotting the purchase amount over time for each user\n",
    "plt.figure(figsize=(10, 5))\n",
    "\n",
    "# Use seaborn's lineplot for better handling of datetime on x-axis\n",
    "sns.lineplot(data=filtered_purchase_df, x='Timestamp', y='Amount', hue='UserID', palette='tab10', marker='o')\n",
    "\n",
    "plt.title('Trends of User Purchases Over Time')\n",
    "plt.xlabel('Time')\n",
    "plt.ylabel('Purchase Amount')\n",
    "plt.legend(title='UserID', bbox_to_anchor=(1.05, 1), loc='upper left')\n",
    "\n",
    "# Improve date formatting\n",
    "plt.xticks(rotation=45)\n",
    "plt.tight_layout()\n",
    "\n",
    "plt.show()"
   ]
  },
  {
   "cell_type": "markdown",
   "id": "df4eecb1",
   "metadata": {
    "papermill": {
     "duration": 0.009682,
     "end_time": "2024-07-26T07:48:25.996452",
     "exception": false,
     "start_time": "2024-07-26T07:48:25.986770",
     "status": "completed"
    },
    "tags": []
   },
   "source": [
    "The data in frame of time serries was a lot messier than i tought, it still can be used, only this time machine learning can help me to understand it in next steps (another notebook)"
   ]
  }
 ],
 "metadata": {
  "kaggle": {
   "accelerator": "none",
   "dataSources": [
    {
     "datasetId": 5438597,
     "sourceId": 9024356,
     "sourceType": "datasetVersion"
    }
   ],
   "dockerImageVersionId": 30746,
   "isGpuEnabled": false,
   "isInternetEnabled": false,
   "language": "python",
   "sourceType": "notebook"
  },
  "kernelspec": {
   "display_name": "Python 3",
   "language": "python",
   "name": "python3"
  },
  "language_info": {
   "codemirror_mode": {
    "name": "ipython",
    "version": 3
   },
   "file_extension": ".py",
   "mimetype": "text/x-python",
   "name": "python",
   "nbconvert_exporter": "python",
   "pygments_lexer": "ipython3",
   "version": "3.10.13"
  },
  "papermill": {
   "default_parameters": {},
   "duration": 10.640568,
   "end_time": "2024-07-26T07:48:26.727772",
   "environment_variables": {},
   "exception": null,
   "input_path": "__notebook__.ipynb",
   "output_path": "__notebook__.ipynb",
   "parameters": {},
   "start_time": "2024-07-26T07:48:16.087204",
   "version": "2.5.0"
  }
 },
 "nbformat": 4,
 "nbformat_minor": 5
}
